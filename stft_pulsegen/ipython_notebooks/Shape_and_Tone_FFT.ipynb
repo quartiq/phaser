{
  "nbformat": 4,
  "nbformat_minor": 0,
  "metadata": {
    "colab": {
      "name": "Shape_and_Tone_FFT.ipynb",
      "provenance": []
    },
    "kernelspec": {
      "name": "python3",
      "display_name": "Python 3"
    }
  },
  "cells": [
    {
      "cell_type": "code",
      "metadata": {
        "id": "JgrKmOc4V0k1",
        "colab_type": "code",
        "colab": {}
      },
      "source": [
        "# %% Includes\n",
        "# ================================================\n",
        "\n",
        "import numpy as np\n",
        "import matplotlib.pyplot as plt\n"
      ],
      "execution_count": null,
      "outputs": []
    },
    {
      "cell_type": "markdown",
      "metadata": {
        "id": "IfhTcfSOV62Q",
        "colab_type": "text"
      },
      "source": [
        "#Just the first Tone:"
      ]
    },
    {
      "cell_type": "code",
      "metadata": {
        "id": "TGDDjtqyV54Y",
        "colab_type": "code",
        "colab": {
          "base_uri": "https://localhost:8080/",
          "height": 283
        },
        "outputId": "dd0fc5ea-67d3-433e-e714-2154e2463cc1"
      },
      "source": [
        "\n",
        "M=1024\n",
        "\n",
        "a_m=np.zeros(M,dtype=complex)   # complex fft parameters\n",
        "\n",
        "a_m[1] = M*1j   #positive first sine\n",
        "\n",
        "STFT_block=np.fft.ifft(a_m).real  # take real part \n",
        "plt.plot(STFT_block)\n"
      ],
      "execution_count": null,
      "outputs": [
        {
          "output_type": "execute_result",
          "data": {
            "text/plain": [
              "[<matplotlib.lines.Line2D at 0x7fc094732ac8>]"
            ]
          },
          "metadata": {
            "tags": []
          },
          "execution_count": 4
        },
        {
          "output_type": "display_data",
          "data": {
            "image/png": "[encoded data removed]",
            "text/plain": [
              "<Figure size 432x288 with 1 Axes>"
            ]
          },
          "metadata": {
            "tags": [],
            "needs_background": "light"
          }
        }
      ]
    },
    {
      "cell_type": "markdown",
      "metadata": {
        "id": "NjOBXuJpWjU0",
        "colab_type": "text"
      },
      "source": [
        "# Just the (Hann) Shape:"
      ]
    },
    {
      "cell_type": "code",
      "metadata": {
        "id": "P71TfH0gWafK",
        "colab_type": "code",
        "colab": {
          "base_uri": "https://localhost:8080/",
          "height": 283
        },
        "outputId": "c8c260df-1300-4200-c3b9-592b8bd02032"
      },
      "source": [
        "\n",
        "M=1024\n",
        "\n",
        "a_m=np.zeros(M,dtype=complex)   # complex fft parameters\n",
        "\n",
        "a_m[0] = M/2\n",
        "a_m[-1] = -M/4\n",
        "a_m[1] = -M/4\n",
        "\n",
        "STFT_block=np.fft.ifft(a_m).real  # take real part \n",
        "plt.plot(STFT_block)\n"
      ],
      "execution_count": null,
      "outputs": [
        {
          "output_type": "execute_result",
          "data": {
            "text/plain": [
              "[<matplotlib.lines.Line2D at 0x7fc094619588>]"
            ]
          },
          "metadata": {
            "tags": []
          },
          "execution_count": 5
        },
        {
          "output_type": "display_data",
          "data": {
            "image/png": "[encoded data removed]",
            "text/plain": [
              "<Figure size 432x288 with 1 Axes>"
            ]
          },
          "metadata": {
            "tags": [],
            "needs_background": "light"
          }
        }
      ]
    },
    {
      "cell_type": "markdown",
      "metadata": {
        "id": "wAxq7eZMXOHV",
        "colab_type": "text"
      },
      "source": [
        "Multiplication in time domain corresponds to convolution in freq. domain\n",
        "# Convolved shape and tone in freq domain:"
      ]
    },
    {
      "cell_type": "code",
      "metadata": {
        "id": "8oTzt75IXLPC",
        "colab_type": "code",
        "colab": {
          "base_uri": "https://localhost:8080/",
          "height": 283
        },
        "outputId": "a22d3c74-1f72-432a-aea1-5919ee43a8e0"
      },
      "source": [
        "\n",
        "M=1024\n",
        "\n",
        "a_m=np.zeros(M,dtype=complex)   # complex fft parameters\n",
        "\n",
        "a_m[1] = 1j*M/2\n",
        "a_m[0] = -1j*M/4\n",
        "a_m[2] = -1j*M/4\n",
        "\n",
        "STFT_block=np.fft.ifft(a_m).real  # take real part \n",
        "plt.plot(STFT_block)"
      ],
      "execution_count": null,
      "outputs": [
        {
          "output_type": "execute_result",
          "data": {
            "text/plain": [
              "[<matplotlib.lines.Line2D at 0x7fc094557ba8>]"
            ]
          },
          "metadata": {
            "tags": []
          },
          "execution_count": 7
        },
        {
          "output_type": "display_data",
          "data": {
            "image/png": "[encoded data removed]",
            "text/plain": [
              "<Figure size 432x288 with 1 Axes>"
            ]
          },
          "metadata": {
            "tags": [],
            "needs_background": "light"
          }
        }
      ]
    },
    {
      "cell_type": "markdown",
      "metadata": {
        "id": "t_8wbk3dXvxw",
        "colab_type": "text"
      },
      "source": [
        "# With higher freq tone:"
      ]
    },
    {
      "cell_type": "code",
      "metadata": {
        "id": "hSdE2H7RXaXu",
        "colab_type": "code",
        "colab": {
          "base_uri": "https://localhost:8080/",
          "height": 283
        },
        "outputId": "3d24a06b-4bec-4c19-8fa7-4f28a1cf20fb"
      },
      "source": [
        "M=1024\n",
        "\n",
        "a_m=np.zeros(M,dtype=complex)   # complex fft parameters\n",
        "\n",
        "a_m[200] = 1j*M/2\n",
        "a_m[199] = -1j*M/4\n",
        "a_m[201] = -1j*M/4\n",
        "\n",
        "STFT_block=np.fft.ifft(a_m).real  # take real part \n",
        "plt.plot(STFT_block)"
      ],
      "execution_count": null,
      "outputs": [
        {
          "output_type": "execute_result",
          "data": {
            "text/plain": [
              "[<matplotlib.lines.Line2D at 0x7fc0944c3470>]"
            ]
          },
          "metadata": {
            "tags": []
          },
          "execution_count": 8
        },
        {
          "output_type": "display_data",
          "data": {
            "image/png": "[encoded data removed]",
            "text/plain": [
              "<Figure size 432x288 with 1 Axes>"
            ]
          },
          "metadata": {
            "tags": [],
            "needs_background": "light"
          }
        }
      ]
    },
    {
      "cell_type": "markdown",
      "metadata": {
        "id": "cZHvGb37Yh5w",
        "colab_type": "text"
      },
      "source": [
        "# Remarks:\n",
        "\n",
        "* There is a correspondence between freq. and time resolution, essentially like Heisenberg's uncertainty principle.\n",
        "\n",
        "* A signal limited in time (aka pulse) has an infinite spectrum. The higher freq components just get smaller and smaller the longer the pulse is. (and windowing can change the freq. distibution)\n",
        "\n",
        "* In a digital representation (DFT/FFT) the spectrum and the time domain are essentially circles, aka periodic with one period beeing the number of samples/number of representable frequencies."
      ]
    },
    {
      "cell_type": "markdown",
      "metadata": {
        "id": "N3ule1Twjq1O",
        "colab_type": "text"
      },
      "source": [
        "#Phase Space:\n",
        "\n",
        "\n",
        "The phase space trajectory with tone amplitudes $a_m$ representing one tone AND the (Hann) shape\n",
        "\n",
        "$\t\\alpha(t)=-i\\frac{\\Omega}{2}\\sum_m\\int_{0}^{t}a_m e^{-i\\delta_m x}dx$\n",
        "\n",
        "should be equivalent to\n",
        "\n",
        "$\t\\alpha(t)=-i\\frac{\\Omega}{2}\\int_{0}^{t}P(x) e^{-i\\delta x}dx$\n",
        "\n",
        "with $P(x)$ being the Hann window.\n",
        "\n",
        "\n",
        "\n",
        "\n",
        "\n",
        "\n"
      ]
    },
    {
      "cell_type": "markdown",
      "metadata": {
        "id": "O--oKj8yrZH5",
        "colab_type": "text"
      },
      "source": [
        "# Multiloop Gates\n",
        "There should be a correspondence of the Multiloop parameters $K,\\tau\\delta$ and freq. representation of the (higher order) Hann shape:\n",
        "\n",
        "multiloop gate multiplies both by $\\sqrt{K}$\n",
        "\n",
        "K=1: gatetime $\\tau= 500\\mu s$ det $\\delta=2kHz$\n",
        "\n",
        "K=2: gatetime $\\tau= 707.1\\mu s$ det $\\delta=2.818 kHz$\n",
        "\n",
        "K=3: gatetime $\\tau= 866.02\\mu s$ det $\\delta=3.464 kHz$"
      ]
    },
    {
      "cell_type": "markdown",
      "metadata": {
        "id": "VtTJsAQSsoBd",
        "colab_type": "text"
      },
      "source": [
        "# Question:\n",
        "\n",
        "Can we engineer the STFT Parameters so that the conditions\n",
        "\n",
        "$\t\\alpha(\\tau)=0$  and $Im(\\Phi(\\tau))=-\\frac{\\pi}{8}$\n",
        "\n",
        "are met while maintaining an overall shape that:\n",
        "\n",
        "* Doesn't \"kick\" the ion into a superposition of some unwanted motional states (can I say it like this?)\n",
        "* Is robust against detuning error [[Sussex](https://arxiv.org/pdf/1805.07351.pdf)]\n",
        "* Is robust against premature pulse termination\n",
        "* Maxwell permits the synthesis and amplification of (a hard turn-on will result in ringing and overshoot)\n"
      ]
    },
    {
      "cell_type": "markdown",
      "metadata": {
        "id": "X1docm6O88XX",
        "colab_type": "text"
      },
      "source": [
        "#Conclusion:\n",
        "\n",
        "Many of the requirements are related or even equivalent. \n",
        "\n",
        "[[Farhang Haddadfarshi and Florian Mintert 2016 New J. Phys. 18 123007](https://spiral.imperial.ac.uk/bitstream/10044/1/42177/9/Haddadfarshi_2016_New_J._Phys._18_123007.pdf)] have optimized for some condition I don't understand but I think their pulse will also start and end at 0 and be \"smooth\" (essentially some weird window defined by the tone coefficients). \n",
        "\n",
        "One could also optimize for the pulse and its derivatives to be 0 at $t=0$ and $t=\\tau$."
      ]
    }
  ]
}